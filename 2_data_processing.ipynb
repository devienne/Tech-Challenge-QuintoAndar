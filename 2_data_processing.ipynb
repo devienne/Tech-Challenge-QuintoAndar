{
 "cells": [
  {
   "cell_type": "markdown",
   "id": "0fac28d8",
   "metadata": {},
   "source": [
    "# Aplicação de recomendação de alugueis"
   ]
  },
  {
   "cell_type": "code",
   "execution_count": 73,
   "id": "a81348f5",
   "metadata": {},
   "outputs": [],
   "source": [
    "import pandas as pd\n",
    "import matplotlib.pyplot as plt\n",
    "from sklearn.compose import ColumnTransformer\n",
    "from sklearn.pipeline import Pipeline\n",
    "from sklearn.preprocessing import StandardScaler, OneHotEncoder\n",
    "from sklearn.decomposition import PCA\n",
    "from sklearn.cluster import KMeans\n",
    "import seaborn as sns\n",
    "\n",
    "sns.set_theme(style=\"ticks\")\n",
    "plt.rcParams.update({\n",
    "    'font.size': 12,          # Global font size\n",
    "    'axes.labelsize': 20,     # Font size for x and y labels\n",
    "    'axes.titlesize': 18,     # Font size for plot title\n",
    "    'xtick.labelsize': 18,    # Font size for x-axis tick labels\n",
    "    'ytick.labelsize': 18,     # Font size for y-axis tick labels\n",
    "    'xtick.direction': 'in',\n",
    "    'ytick.direction': 'in',\n",
    "    'legend.fontsize': 14,\n",
    "    'figure.figsize': (8, 6)\n",
    "})\n"
   ]
  },
  {
   "cell_type": "code",
   "execution_count": 74,
   "id": "3423d86a",
   "metadata": {},
   "outputs": [
    {
     "data": {
      "text/html": [
       "<div>\n",
       "<style scoped>\n",
       "    .dataframe tbody tr th:only-of-type {\n",
       "        vertical-align: middle;\n",
       "    }\n",
       "\n",
       "    .dataframe tbody tr th {\n",
       "        vertical-align: top;\n",
       "    }\n",
       "\n",
       "    .dataframe thead th {\n",
       "        text-align: right;\n",
       "    }\n",
       "</style>\n",
       "<table border=\"1\" class=\"dataframe\">\n",
       "  <thead>\n",
       "    <tr style=\"text-align: right;\">\n",
       "      <th></th>\n",
       "      <th>area</th>\n",
       "      <th>quartos</th>\n",
       "      <th>suite</th>\n",
       "      <th>banheiros</th>\n",
       "      <th>vagas</th>\n",
       "      <th>pet</th>\n",
       "      <th>mobiliado</th>\n",
       "      <th>metro_proximo</th>\n",
       "      <th>Aluguel</th>\n",
       "      <th>Condomínio</th>\n",
       "      <th>IPTU</th>\n",
       "      <th>Seguro incêndio</th>\n",
       "      <th>Taxa de serviço</th>\n",
       "      <th>Total</th>\n",
       "      <th>neighborhood</th>\n",
       "      <th>score</th>\n",
       "    </tr>\n",
       "  </thead>\n",
       "  <tbody>\n",
       "    <tr>\n",
       "      <th>0</th>\n",
       "      <td>25.0</td>\n",
       "      <td>1.0</td>\n",
       "      <td>1</td>\n",
       "      <td>1.0</td>\n",
       "      <td>0.0</td>\n",
       "      <td>0</td>\n",
       "      <td>1</td>\n",
       "      <td>1</td>\n",
       "      <td>3500</td>\n",
       "      <td>550.0</td>\n",
       "      <td>0</td>\n",
       "      <td>45.0</td>\n",
       "      <td>90.0</td>\n",
       "      <td>4185</td>\n",
       "      <td>brooklin</td>\n",
       "      <td>167.400000</td>\n",
       "    </tr>\n",
       "    <tr>\n",
       "      <th>1</th>\n",
       "      <td>116.0</td>\n",
       "      <td>3.0</td>\n",
       "      <td>2</td>\n",
       "      <td>3.0</td>\n",
       "      <td>2.0</td>\n",
       "      <td>1</td>\n",
       "      <td>1</td>\n",
       "      <td>1</td>\n",
       "      <td>10000</td>\n",
       "      <td>1300.0</td>\n",
       "      <td>0</td>\n",
       "      <td>127.0</td>\n",
       "      <td>259.0</td>\n",
       "      <td>11686</td>\n",
       "      <td>brooklin</td>\n",
       "      <td>100.741379</td>\n",
       "    </tr>\n",
       "    <tr>\n",
       "      <th>2</th>\n",
       "      <td>28.0</td>\n",
       "      <td>1.0</td>\n",
       "      <td>1</td>\n",
       "      <td>1.0</td>\n",
       "      <td>0.0</td>\n",
       "      <td>0</td>\n",
       "      <td>1</td>\n",
       "      <td>1</td>\n",
       "      <td>2950</td>\n",
       "      <td>760.0</td>\n",
       "      <td>0</td>\n",
       "      <td>38.0</td>\n",
       "      <td>76.0</td>\n",
       "      <td>3824</td>\n",
       "      <td>brooklin</td>\n",
       "      <td>136.571429</td>\n",
       "    </tr>\n",
       "    <tr>\n",
       "      <th>3</th>\n",
       "      <td>26.0</td>\n",
       "      <td>1.0</td>\n",
       "      <td>0</td>\n",
       "      <td>1.0</td>\n",
       "      <td>0.0</td>\n",
       "      <td>1</td>\n",
       "      <td>0</td>\n",
       "      <td>1</td>\n",
       "      <td>2700</td>\n",
       "      <td>550.0</td>\n",
       "      <td>1</td>\n",
       "      <td>35.0</td>\n",
       "      <td>69.0</td>\n",
       "      <td>3355</td>\n",
       "      <td>brooklin</td>\n",
       "      <td>129.038462</td>\n",
       "    </tr>\n",
       "    <tr>\n",
       "      <th>4</th>\n",
       "      <td>32.0</td>\n",
       "      <td>1.0</td>\n",
       "      <td>0</td>\n",
       "      <td>1.0</td>\n",
       "      <td>1.0</td>\n",
       "      <td>0</td>\n",
       "      <td>1</td>\n",
       "      <td>1</td>\n",
       "      <td>3680</td>\n",
       "      <td>600.0</td>\n",
       "      <td>100</td>\n",
       "      <td>47.0</td>\n",
       "      <td>95.0</td>\n",
       "      <td>4522</td>\n",
       "      <td>brooklin</td>\n",
       "      <td>141.312500</td>\n",
       "    </tr>\n",
       "  </tbody>\n",
       "</table>\n",
       "</div>"
      ],
      "text/plain": [
       "    area  quartos  suite  banheiros  vagas  pet  mobiliado  metro_proximo  \\\n",
       "0   25.0      1.0      1        1.0    0.0    0          1              1   \n",
       "1  116.0      3.0      2        3.0    2.0    1          1              1   \n",
       "2   28.0      1.0      1        1.0    0.0    0          1              1   \n",
       "3   26.0      1.0      0        1.0    0.0    1          0              1   \n",
       "4   32.0      1.0      0        1.0    1.0    0          1              1   \n",
       "\n",
       "   Aluguel  Condomínio  IPTU  Seguro incêndio  Taxa de serviço  Total  \\\n",
       "0     3500       550.0     0             45.0             90.0   4185   \n",
       "1    10000      1300.0     0            127.0            259.0  11686   \n",
       "2     2950       760.0     0             38.0             76.0   3824   \n",
       "3     2700       550.0     1             35.0             69.0   3355   \n",
       "4     3680       600.0   100             47.0             95.0   4522   \n",
       "\n",
       "  neighborhood       score  \n",
       "0     brooklin  167.400000  \n",
       "1     brooklin  100.741379  \n",
       "2     brooklin  136.571429  \n",
       "3     brooklin  129.038462  \n",
       "4     brooklin  141.312500  "
      ]
     },
     "execution_count": 74,
     "metadata": {},
     "output_type": "execute_result"
    }
   ],
   "source": [
    "data = pd.read_csv(r'D:\\Tech-Challenge-QuintoAndar\\database\\data_refined')\n",
    "data.head()"
   ]
  },
  {
   "cell_type": "code",
   "execution_count": 75,
   "metadata": {},
   "outputs": [],
   "source": [
    "# --------------- FEATURES ---------------\n",
    "num_cols = [\n",
    "    \"area\",\"quartos\",\"suite\",\"banheiros\",\"vagas\",\n",
    "    \"pet\",\"mobiliado\",\"metro_proximo\",\n",
    "    \"Aluguel\",\"Condomínio\",\"IPTU\",\"Seguro incêndio\",\"Taxa de serviço\",\"Total\"\n",
    "]\n",
    "cat_cols = [\"neighborhood\"]  # one-hot\n",
    "\n",
    "# X for ML (exclude 'score' if you use it later for ranking)\n",
    "X = data[num_cols + cat_cols].copy()\n"
   ]
  },
  {
   "cell_type": "code",
   "execution_count": 76,
   "id": "c559980e",
   "metadata": {},
   "outputs": [],
   "source": [
    "numeric_pipe = Pipeline(steps=[\n",
    "    (\"scaler\", StandardScaler()),\n",
    "    # keep 90% variance; or set an integer like n_components=5\n",
    "    (\"pca\", PCA(n_components=0.90, svd_solver=\"full\"))\n",
    "])\n",
    "\n",
    "categorical_pipe = OneHotEncoder(handle_unknown=\"ignore\", sparse_output=False)\n",
    "\n",
    "preprocessor = ColumnTransformer(\n",
    "    transformers=[\n",
    "        (\"num\", numeric_pipe, num_cols),\n",
    "        (\"cat\", categorical_pipe, cat_cols),\n",
    "    ],\n",
    "    remainder=\"drop\"\n",
    ")\n",
    "\n",
    "# Fit the preprocessor once (on all your cleaned data)\n",
    "Z = preprocessor.fit_transform(X)  # Z is the transformed feature matrix ready for clustering\n"
   ]
  },
  {
   "cell_type": "code",
   "execution_count": 77,
   "id": "5699572e",
   "metadata": {},
   "outputs": [
    {
     "name": "stdout",
     "output_type": "stream",
     "text": [
      "Numeric PCA components kept: 7\n",
      "Explained variance ratio (numeric block): [0.54699948 0.13334138 0.07145913 0.05387684 0.04895073 0.03926744\n",
      " 0.03353308]\n",
      "Cumulative: 0.9274280798521705\n"
     ]
    }
   ],
   "source": [
    "pca = preprocessor.named_transformers_[\"num\"].named_steps[\"pca\"]\n",
    "print(\"Numeric PCA components kept:\", pca.n_components_)\n",
    "print(\"Explained variance ratio (numeric block):\", pca.explained_variance_ratio_)\n",
    "print(\"Cumulative:\", pca.explained_variance_ratio_.cumsum()[-1])"
   ]
  },
  {
   "cell_type": "markdown",
   "id": "77faa688",
   "metadata": {},
   "source": [
    "Definição de inercia: Sum of squared distances of samples to their closest cluster center, weighted by the sample weights if provided (ref: documentação scikit-learn)."
   ]
  },
  {
   "cell_type": "code",
   "execution_count": 84,
   "id": "abfa0fdd",
   "metadata": {},
   "outputs": [],
   "source": [
    "inertia = []\n",
    "\n",
    "for k in range(2,31):\n",
    "    km = KMeans(n_clusters=k, random_state=42, n_init=10)\n",
    "    km.fit(Z)\n",
    "    labels = km.fit_predict(Z)\n",
    "    inertia.append(km.inertia_)\n"
   ]
  },
  {
   "cell_type": "code",
   "execution_count": 85,
   "id": "ab8a6856",
   "metadata": {},
   "outputs": [
    {
     "data": {
      "image/png": "[encoded data removed]",
      "text/plain": [
       "<Figure size 800x600 with 1 Axes>"
      ]
     },
     "metadata": {},
     "output_type": "display_data"
    }
   ],
   "source": [
    "\n",
    "plt.plot(range(2,31), inertia,'ko-')\n",
    "plt.plot([0,8],[inertia[6],inertia[6]], ls='--', c='k')\n",
    "plt.plot([8,8],[0,inertia[6]], ls='--', c='k')\n",
    "plt.plot(8, inertia[6], 'ko', ms=10, mfc='w', label=f'Número ideal de clusters: 8')\n",
    "plt.xlabel('Número de clusters, k')\n",
    "plt.ylabel('Inércia')\n",
    "plt.ylim(bottom=4000)\n",
    "plt.xlim(0,31)\n",
    "plt.grid(True, ls='--')\n",
    "plt.legend()\n",
    "plt.show()"
   ]
  },
  {
   "cell_type": "markdown",
   "id": "7059a8b8",
   "metadata": {},
   "source": [
    "Por ora, vamos adotar o número de clusters como sendo k=8"
   ]
  },
  {
   "cell_type": "code",
   "execution_count": 86,
   "id": "badcbac3",
   "metadata": {},
   "outputs": [
    {
     "name": "stdout",
     "output_type": "stream",
     "text": [
      "cluster\n",
      "3    362\n",
      "1    355\n",
      "6    348\n",
      "4    299\n",
      "5    242\n",
      "7    109\n",
      "2     63\n",
      "0     31\n",
      "Name: count, dtype: int64\n"
     ]
    }
   ],
   "source": [
    "kmeans_k = 8  \n",
    "\n",
    "clustering_pipeline = Pipeline(steps=[\n",
    "    (\"prep\", preprocessor),\n",
    "    (\"kmeans\", KMeans(n_clusters=kmeans_k, random_state=420, n_init=10))\n",
    "])\n",
    "\n",
    "# Fit on ALL cleaned data (global segmentation)\n",
    "clustering_pipeline.fit(X)\n",
    "\n",
    "# Labels for each listing\n",
    "cluster_labels = clustering_pipeline.named_steps[\"kmeans\"].labels_\n",
    "data_refined = data.copy()\n",
    "data_refined[\"cluster\"] = cluster_labels\n",
    "\n",
    "# (Optional) Inspect cluster sizes\n",
    "print(data_refined[\"cluster\"].value_counts())\n"
   ]
  },
  {
   "cell_type": "code",
   "execution_count": null,
   "metadata": {},
   "outputs": [],
   "source": []
  }
 ],
 "metadata": {
  "kernelspec": {
   "display_name": "venv (3.10.11)",
   "language": "python",
   "name": "python3"
  },
  "language_info": {
   "codemirror_mode": {
    "name": "ipython",
    "version": 3
   },
   "file_extension": ".py",
   "mimetype": "text/x-python",
   "name": "python",
   "nbconvert_exporter": "python",
   "pygments_lexer": "ipython3",
   "version": "3.10.11"
  }
 },
 "nbformat": 4,
 "nbformat_minor": 5
}
